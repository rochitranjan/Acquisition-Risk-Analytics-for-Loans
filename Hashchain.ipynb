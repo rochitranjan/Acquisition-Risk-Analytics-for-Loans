{
 "cells": [
  {
   "cell_type": "markdown",
   "metadata": {},
   "source": [
    "#### Importing Basic Libraries and Dataset"
   ]
  },
  {
   "cell_type": "code",
   "execution_count": 1,
   "metadata": {},
   "outputs": [
    {
     "name": "stdout",
     "output_type": "stream",
     "text": [
      "<class 'pandas.core.frame.DataFrame'>\n",
      "RangeIndex: 981 entries, 0 to 980\n",
      "Data columns (total 14 columns):\n",
      " #   Column             Non-Null Count  Dtype  \n",
      "---  ------             --------------  -----  \n",
      " 0   Unnamed: 0         0 non-null      float64\n",
      " 1   Loan_ID            981 non-null    object \n",
      " 2   Gender             981 non-null    object \n",
      " 3   Married            981 non-null    object \n",
      " 4   Dependents         981 non-null    object \n",
      " 5   Education          981 non-null    object \n",
      " 6   Self_Employed      981 non-null    object \n",
      " 7   ApplicantIncome    981 non-null    int64  \n",
      " 8   CoapplicantIncome  981 non-null    float64\n",
      " 9   Loamount           954 non-null    float64\n",
      " 10  Loan_Amount_Term   981 non-null    int64  \n",
      " 11  Credit_History     981 non-null    int64  \n",
      " 12  Property_Area      981 non-null    object \n",
      " 13  Loan_Status        981 non-null    object \n",
      "dtypes: float64(3), int64(3), object(8)\n",
      "memory usage: 107.4+ KB\n"
     ]
    }
   ],
   "source": [
    "import warnings\n",
    "warnings.filterwarnings('ignore')\n",
    "import numpy as np\n",
    "import pandas as pd\n",
    "import matplotlib.pyplot as plt\n",
    "import seaborn as sns\n",
    "from sklearn.preprocessing import LabelEncoder\n",
    "from sklearn.preprocessing import StandardScaler\n",
    "from sklearn.model_selection import train_test_split\n",
    "from sklearn.metrics import confusion_matrix, accuracy_score\n",
    "from sklearn.model_selection import GridSearchCV\n",
    "from sklearn.metrics import precision_recall_curve\n",
    "from scipy.stats import chi2_contingency \n",
    "from sklearn.ensemble import RandomForestClassifier\n",
    "\n",
    "\n",
    "loan = pd.read_excel('D:/Hashchain/dataset.xlsx', sheet_name = 'Sheet1')\n",
    "loan.info()\n",
    "\n",
    "loan.drop(['Unnamed: 0', 'Loan_ID'], axis = 1, inplace = True)"
   ]
  },
  {
   "cell_type": "markdown",
   "metadata": {},
   "source": [
    "##### `Converting the Loan Status to binary Variable :`"
   ]
  },
  {
   "cell_type": "code",
   "execution_count": 2,
   "metadata": {},
   "outputs": [],
   "source": [
    "loan['response'] = loan['Loan_Status'].map({'Y':1, 'N': 0})\n",
    "loan.drop(['Loan_Status'], axis = 1, inplace = True)"
   ]
  },
  {
   "cell_type": "markdown",
   "metadata": {},
   "source": [
    "### EDA"
   ]
  },
  {
   "cell_type": "markdown",
   "metadata": {},
   "source": [
    "Find the response rate for each of the categorical variable :\n",
    "   - Gender\n",
    "   - Married\n",
    "   - Dependents\n",
    "   - Education\n",
    "   - Self_Employed\n",
    "   - Credit_History\n",
    "   - Property_Area\n",
    "   - Loan_Amount_Term "
   ]
  },
  {
   "cell_type": "code",
   "execution_count": 3,
   "metadata": {},
   "outputs": [],
   "source": [
    "cat_var = ['Gender', 'Married', 'Dependents', 'Education', 'Self_Employed', 'Credit_History', 'Property_Area','Loan_Amount_Term']\n",
    "cont_var = ['ApplicantIncome', 'CoapplicantIncome', 'Loamount']"
   ]
  },
  {
   "cell_type": "markdown",
   "metadata": {},
   "source": [
    "`Gender :`"
   ]
  },
  {
   "cell_type": "code",
   "execution_count": 4,
   "metadata": {},
   "outputs": [
    {
     "data": {
      "text/html": [
       "<div>\n",
       "<style scoped>\n",
       "    .dataframe tbody tr th:only-of-type {\n",
       "        vertical-align: middle;\n",
       "    }\n",
       "\n",
       "    .dataframe tbody tr th {\n",
       "        vertical-align: top;\n",
       "    }\n",
       "\n",
       "    .dataframe thead th {\n",
       "        text-align: right;\n",
       "    }\n",
       "</style>\n",
       "<table border=\"1\" class=\"dataframe\">\n",
       "  <thead>\n",
       "    <tr style=\"text-align: right;\">\n",
       "      <th></th>\n",
       "      <th>Gender</th>\n",
       "      <th>count_prospects</th>\n",
       "      <th>No_of_prospects</th>\n",
       "      <th>response_rate</th>\n",
       "    </tr>\n",
       "  </thead>\n",
       "  <tbody>\n",
       "    <tr>\n",
       "      <th>0</th>\n",
       "      <td>Female</td>\n",
       "      <td>129</td>\n",
       "      <td>182</td>\n",
       "      <td>70.88</td>\n",
       "    </tr>\n",
       "    <tr>\n",
       "      <th>1</th>\n",
       "      <td>Male</td>\n",
       "      <td>593</td>\n",
       "      <td>799</td>\n",
       "      <td>74.22</td>\n",
       "    </tr>\n",
       "  </tbody>\n",
       "</table>\n",
       "</div>"
      ],
      "text/plain": [
       "   Gender  count_prospects  No_of_prospects  response_rate\n",
       "0  Female              129              182          70.88\n",
       "1    Male              593              799          74.22"
      ]
     },
     "execution_count": 4,
     "metadata": {},
     "output_type": "execute_result"
    }
   ],
   "source": [
    "count_prospects_gender = loan.groupby('Gender')['response'].sum().reset_index(name = 'count_prospects')\n",
    "No_of_prospect_gender = loan.groupby('Gender')['response'].count().reset_index(name = 'No_of_prospects')\n",
    "agg_gender = count_prospects_gender.merge(No_of_prospect_gender, on = 'Gender')\n",
    "agg_gender['response_rate'] = 100*(agg_gender['count_prospects']/agg_gender['No_of_prospects']).round(4)\n",
    "agg_gender"
   ]
  },
  {
   "cell_type": "markdown",
   "metadata": {},
   "source": [
    "`Married :`"
   ]
  },
  {
   "cell_type": "code",
   "execution_count": 5,
   "metadata": {},
   "outputs": [
    {
     "data": {
      "text/html": [
       "<div>\n",
       "<style scoped>\n",
       "    .dataframe tbody tr th:only-of-type {\n",
       "        vertical-align: middle;\n",
       "    }\n",
       "\n",
       "    .dataframe tbody tr th {\n",
       "        vertical-align: top;\n",
       "    }\n",
       "\n",
       "    .dataframe thead th {\n",
       "        text-align: right;\n",
       "    }\n",
       "</style>\n",
       "<table border=\"1\" class=\"dataframe\">\n",
       "  <thead>\n",
       "    <tr style=\"text-align: right;\">\n",
       "      <th></th>\n",
       "      <th>Married</th>\n",
       "      <th>count_prospects</th>\n",
       "      <th>No_of_prospects</th>\n",
       "      <th>response_rate</th>\n",
       "    </tr>\n",
       "  </thead>\n",
       "  <tbody>\n",
       "    <tr>\n",
       "      <th>0</th>\n",
       "      <td>No</td>\n",
       "      <td>240</td>\n",
       "      <td>347</td>\n",
       "      <td>69.16</td>\n",
       "    </tr>\n",
       "    <tr>\n",
       "      <th>1</th>\n",
       "      <td>Yes</td>\n",
       "      <td>482</td>\n",
       "      <td>634</td>\n",
       "      <td>76.03</td>\n",
       "    </tr>\n",
       "  </tbody>\n",
       "</table>\n",
       "</div>"
      ],
      "text/plain": [
       "  Married  count_prospects  No_of_prospects  response_rate\n",
       "0      No              240              347          69.16\n",
       "1     Yes              482              634          76.03"
      ]
     },
     "execution_count": 5,
     "metadata": {},
     "output_type": "execute_result"
    }
   ],
   "source": [
    "count_prospects_status = loan.groupby('Married')['response'].sum().reset_index(name = 'count_prospects')\n",
    "No_of_prospect_status = loan.groupby('Married')['response'].count().reset_index(name = 'No_of_prospects')\n",
    "agg_status = count_prospects_status.merge(No_of_prospect_status, on = 'Married')\n",
    "agg_status['response_rate'] = 100*(agg_status['count_prospects']/agg_status['No_of_prospects']).round(4)\n",
    "agg_status"
   ]
  },
  {
   "cell_type": "markdown",
   "metadata": {},
   "source": [
    "`Dependents :`"
   ]
  },
  {
   "cell_type": "code",
   "execution_count": 6,
   "metadata": {},
   "outputs": [
    {
     "data": {
      "text/html": [
       "<div>\n",
       "<style scoped>\n",
       "    .dataframe tbody tr th:only-of-type {\n",
       "        vertical-align: middle;\n",
       "    }\n",
       "\n",
       "    .dataframe tbody tr th {\n",
       "        vertical-align: top;\n",
       "    }\n",
       "\n",
       "    .dataframe thead th {\n",
       "        text-align: right;\n",
       "    }\n",
       "</style>\n",
       "<table border=\"1\" class=\"dataframe\">\n",
       "  <thead>\n",
       "    <tr style=\"text-align: right;\">\n",
       "      <th></th>\n",
       "      <th>Dependents</th>\n",
       "      <th>count_prospects</th>\n",
       "      <th>No_of_prospects</th>\n",
       "      <th>response_rate</th>\n",
       "    </tr>\n",
       "  </thead>\n",
       "  <tbody>\n",
       "    <tr>\n",
       "      <th>0</th>\n",
       "      <td>0</td>\n",
       "      <td>418</td>\n",
       "      <td>570</td>\n",
       "      <td>73.33</td>\n",
       "    </tr>\n",
       "    <tr>\n",
       "      <th>1</th>\n",
       "      <td>1</td>\n",
       "      <td>118</td>\n",
       "      <td>160</td>\n",
       "      <td>73.75</td>\n",
       "    </tr>\n",
       "    <tr>\n",
       "      <th>2</th>\n",
       "      <td>2</td>\n",
       "      <td>122</td>\n",
       "      <td>160</td>\n",
       "      <td>76.25</td>\n",
       "    </tr>\n",
       "    <tr>\n",
       "      <th>3</th>\n",
       "      <td>3+</td>\n",
       "      <td>64</td>\n",
       "      <td>91</td>\n",
       "      <td>70.33</td>\n",
       "    </tr>\n",
       "  </tbody>\n",
       "</table>\n",
       "</div>"
      ],
      "text/plain": [
       "  Dependents  count_prospects  No_of_prospects  response_rate\n",
       "0          0              418              570          73.33\n",
       "1          1              118              160          73.75\n",
       "2          2              122              160          76.25\n",
       "3         3+               64               91          70.33"
      ]
     },
     "execution_count": 6,
     "metadata": {},
     "output_type": "execute_result"
    }
   ],
   "source": [
    "count_prospects_dependents = loan.groupby('Dependents')['response'].sum().reset_index(name = 'count_prospects')\n",
    "No_of_prospect_dependents = loan.groupby('Dependents')['response'].count().reset_index(name = 'No_of_prospects')\n",
    "agg_dependents = count_prospects_dependents.merge(No_of_prospect_dependents, on = 'Dependents')\n",
    "agg_dependents['response_rate'] = 100*(agg_dependents['count_prospects']/agg_dependents['No_of_prospects']).round(4)\n",
    "agg_dependents"
   ]
  },
  {
   "cell_type": "markdown",
   "metadata": {},
   "source": [
    "`Education :`"
   ]
  },
  {
   "cell_type": "code",
   "execution_count": 7,
   "metadata": {},
   "outputs": [
    {
     "data": {
      "text/html": [
       "<div>\n",
       "<style scoped>\n",
       "    .dataframe tbody tr th:only-of-type {\n",
       "        vertical-align: middle;\n",
       "    }\n",
       "\n",
       "    .dataframe tbody tr th {\n",
       "        vertical-align: top;\n",
       "    }\n",
       "\n",
       "    .dataframe thead th {\n",
       "        text-align: right;\n",
       "    }\n",
       "</style>\n",
       "<table border=\"1\" class=\"dataframe\">\n",
       "  <thead>\n",
       "    <tr style=\"text-align: right;\">\n",
       "      <th></th>\n",
       "      <th>Education</th>\n",
       "      <th>count_prospects</th>\n",
       "      <th>No_of_prospects</th>\n",
       "      <th>response_rate</th>\n",
       "    </tr>\n",
       "  </thead>\n",
       "  <tbody>\n",
       "    <tr>\n",
       "      <th>0</th>\n",
       "      <td>Graduate</td>\n",
       "      <td>575</td>\n",
       "      <td>763</td>\n",
       "      <td>75.36</td>\n",
       "    </tr>\n",
       "    <tr>\n",
       "      <th>1</th>\n",
       "      <td>Not Graduate</td>\n",
       "      <td>147</td>\n",
       "      <td>218</td>\n",
       "      <td>67.43</td>\n",
       "    </tr>\n",
       "  </tbody>\n",
       "</table>\n",
       "</div>"
      ],
      "text/plain": [
       "      Education  count_prospects  No_of_prospects  response_rate\n",
       "0      Graduate              575              763          75.36\n",
       "1  Not Graduate              147              218          67.43"
      ]
     },
     "execution_count": 7,
     "metadata": {},
     "output_type": "execute_result"
    }
   ],
   "source": [
    "count_prospects_education = loan.groupby('Education')['response'].sum().reset_index(name = 'count_prospects')\n",
    "No_of_prospect_education = loan.groupby('Education')['response'].count().reset_index(name = 'No_of_prospects')\n",
    "agg_education = count_prospects_education.merge(No_of_prospect_education, on = 'Education')\n",
    "agg_education['response_rate'] = 100*(agg_education['count_prospects']/agg_education['No_of_prospects']).round(4)\n",
    "agg_education"
   ]
  },
  {
   "cell_type": "markdown",
   "metadata": {},
   "source": [
    "`Self-Employed :`"
   ]
  },
  {
   "cell_type": "code",
   "execution_count": 8,
   "metadata": {},
   "outputs": [
    {
     "data": {
      "text/html": [
       "<div>\n",
       "<style scoped>\n",
       "    .dataframe tbody tr th:only-of-type {\n",
       "        vertical-align: middle;\n",
       "    }\n",
       "\n",
       "    .dataframe tbody tr th {\n",
       "        vertical-align: top;\n",
       "    }\n",
       "\n",
       "    .dataframe thead th {\n",
       "        text-align: right;\n",
       "    }\n",
       "</style>\n",
       "<table border=\"1\" class=\"dataframe\">\n",
       "  <thead>\n",
       "    <tr style=\"text-align: right;\">\n",
       "      <th></th>\n",
       "      <th>Self_Employed</th>\n",
       "      <th>count_prospects</th>\n",
       "      <th>No_of_prospects</th>\n",
       "      <th>response_rate</th>\n",
       "    </tr>\n",
       "  </thead>\n",
       "  <tbody>\n",
       "    <tr>\n",
       "      <th>0</th>\n",
       "      <td>No</td>\n",
       "      <td>633</td>\n",
       "      <td>862</td>\n",
       "      <td>73.43</td>\n",
       "    </tr>\n",
       "    <tr>\n",
       "      <th>1</th>\n",
       "      <td>Yes</td>\n",
       "      <td>89</td>\n",
       "      <td>119</td>\n",
       "      <td>74.79</td>\n",
       "    </tr>\n",
       "  </tbody>\n",
       "</table>\n",
       "</div>"
      ],
      "text/plain": [
       "  Self_Employed  count_prospects  No_of_prospects  response_rate\n",
       "0            No              633              862          73.43\n",
       "1           Yes               89              119          74.79"
      ]
     },
     "execution_count": 8,
     "metadata": {},
     "output_type": "execute_result"
    }
   ],
   "source": [
    "count_prospects_self_emp = loan.groupby('Self_Employed')['response'].sum().reset_index(name = 'count_prospects')\n",
    "No_of_prospect_self_emp = loan.groupby('Self_Employed')['response'].count().reset_index(name = 'No_of_prospects')\n",
    "agg_self_emp = count_prospects_self_emp.merge(No_of_prospect_self_emp, on = 'Self_Employed')\n",
    "agg_self_emp['response_rate'] = 100*(agg_self_emp['count_prospects']/agg_self_emp['No_of_prospects']).round(4)\n",
    "agg_self_emp"
   ]
  },
  {
   "cell_type": "markdown",
   "metadata": {},
   "source": [
    "`Credit History :`"
   ]
  },
  {
   "cell_type": "code",
   "execution_count": 9,
   "metadata": {},
   "outputs": [
    {
     "data": {
      "text/html": [
       "<div>\n",
       "<style scoped>\n",
       "    .dataframe tbody tr th:only-of-type {\n",
       "        vertical-align: middle;\n",
       "    }\n",
       "\n",
       "    .dataframe tbody tr th {\n",
       "        vertical-align: top;\n",
       "    }\n",
       "\n",
       "    .dataframe thead th {\n",
       "        text-align: right;\n",
       "    }\n",
       "</style>\n",
       "<table border=\"1\" class=\"dataframe\">\n",
       "  <thead>\n",
       "    <tr style=\"text-align: right;\">\n",
       "      <th></th>\n",
       "      <th>Credit_History</th>\n",
       "      <th>count_prospects</th>\n",
       "      <th>No_of_prospects</th>\n",
       "      <th>response_rate</th>\n",
       "    </tr>\n",
       "  </thead>\n",
       "  <tbody>\n",
       "    <tr>\n",
       "      <th>0</th>\n",
       "      <td>0</td>\n",
       "      <td>7</td>\n",
       "      <td>148</td>\n",
       "      <td>4.73</td>\n",
       "    </tr>\n",
       "    <tr>\n",
       "      <th>1</th>\n",
       "      <td>1</td>\n",
       "      <td>715</td>\n",
       "      <td>833</td>\n",
       "      <td>85.83</td>\n",
       "    </tr>\n",
       "  </tbody>\n",
       "</table>\n",
       "</div>"
      ],
      "text/plain": [
       "   Credit_History  count_prospects  No_of_prospects  response_rate\n",
       "0               0                7              148           4.73\n",
       "1               1              715              833          85.83"
      ]
     },
     "execution_count": 9,
     "metadata": {},
     "output_type": "execute_result"
    }
   ],
   "source": [
    "count_prospects_crd_hist = loan.groupby('Credit_History')['response'].sum().reset_index(name = 'count_prospects')\n",
    "No_of_prospect_crd_hist = loan.groupby('Credit_History')['response'].count().reset_index(name = 'No_of_prospects')\n",
    "agg_crd_hist = count_prospects_crd_hist.merge(No_of_prospect_crd_hist, on = 'Credit_History')\n",
    "agg_crd_hist['response_rate'] = 100*(agg_crd_hist['count_prospects']/agg_crd_hist['No_of_prospects']).round(4)\n",
    "agg_crd_hist"
   ]
  },
  {
   "cell_type": "markdown",
   "metadata": {},
   "source": [
    "`Property Area :`"
   ]
  },
  {
   "cell_type": "code",
   "execution_count": 10,
   "metadata": {},
   "outputs": [
    {
     "data": {
      "text/html": [
       "<div>\n",
       "<style scoped>\n",
       "    .dataframe tbody tr th:only-of-type {\n",
       "        vertical-align: middle;\n",
       "    }\n",
       "\n",
       "    .dataframe tbody tr th {\n",
       "        vertical-align: top;\n",
       "    }\n",
       "\n",
       "    .dataframe thead th {\n",
       "        text-align: right;\n",
       "    }\n",
       "</style>\n",
       "<table border=\"1\" class=\"dataframe\">\n",
       "  <thead>\n",
       "    <tr style=\"text-align: right;\">\n",
       "      <th></th>\n",
       "      <th>Property_Area</th>\n",
       "      <th>count_prospects</th>\n",
       "      <th>No_of_prospects</th>\n",
       "      <th>response_rate</th>\n",
       "    </tr>\n",
       "  </thead>\n",
       "  <tbody>\n",
       "    <tr>\n",
       "      <th>0</th>\n",
       "      <td>Rural</td>\n",
       "      <td>196</td>\n",
       "      <td>290</td>\n",
       "      <td>67.59</td>\n",
       "    </tr>\n",
       "    <tr>\n",
       "      <th>1</th>\n",
       "      <td>Semiurban</td>\n",
       "      <td>272</td>\n",
       "      <td>349</td>\n",
       "      <td>77.94</td>\n",
       "    </tr>\n",
       "    <tr>\n",
       "      <th>2</th>\n",
       "      <td>Urban</td>\n",
       "      <td>254</td>\n",
       "      <td>342</td>\n",
       "      <td>74.27</td>\n",
       "    </tr>\n",
       "  </tbody>\n",
       "</table>\n",
       "</div>"
      ],
      "text/plain": [
       "  Property_Area  count_prospects  No_of_prospects  response_rate\n",
       "0         Rural              196              290          67.59\n",
       "1     Semiurban              272              349          77.94\n",
       "2         Urban              254              342          74.27"
      ]
     },
     "execution_count": 10,
     "metadata": {},
     "output_type": "execute_result"
    }
   ],
   "source": [
    "count_prospects_area = loan.groupby('Property_Area')['response'].sum().reset_index(name = 'count_prospects')\n",
    "No_of_prospect_area = loan.groupby('Property_Area')['response'].count().reset_index(name = 'No_of_prospects')\n",
    "agg_area = count_prospects_area.merge(No_of_prospect_area, on = 'Property_Area')\n",
    "agg_area['response_rate'] = 100*(agg_area['count_prospects']/agg_area['No_of_prospects']).round(4)\n",
    "agg_area"
   ]
  },
  {
   "cell_type": "markdown",
   "metadata": {},
   "source": [
    "`Loan Amount Term :`"
   ]
  },
  {
   "cell_type": "code",
   "execution_count": 11,
   "metadata": {},
   "outputs": [
    {
     "data": {
      "text/html": [
       "<div>\n",
       "<style scoped>\n",
       "    .dataframe tbody tr th:only-of-type {\n",
       "        vertical-align: middle;\n",
       "    }\n",
       "\n",
       "    .dataframe tbody tr th {\n",
       "        vertical-align: top;\n",
       "    }\n",
       "\n",
       "    .dataframe thead th {\n",
       "        text-align: right;\n",
       "    }\n",
       "</style>\n",
       "<table border=\"1\" class=\"dataframe\">\n",
       "  <thead>\n",
       "    <tr style=\"text-align: right;\">\n",
       "      <th></th>\n",
       "      <th>Loan_Amount_Term</th>\n",
       "      <th>count_prospects</th>\n",
       "      <th>No_of_prospects</th>\n",
       "      <th>response_rate</th>\n",
       "    </tr>\n",
       "  </thead>\n",
       "  <tbody>\n",
       "    <tr>\n",
       "      <th>0</th>\n",
       "      <td>6</td>\n",
       "      <td>0</td>\n",
       "      <td>1</td>\n",
       "      <td>0.00</td>\n",
       "    </tr>\n",
       "    <tr>\n",
       "      <th>1</th>\n",
       "      <td>12</td>\n",
       "      <td>2</td>\n",
       "      <td>2</td>\n",
       "      <td>100.00</td>\n",
       "    </tr>\n",
       "    <tr>\n",
       "      <th>2</th>\n",
       "      <td>36</td>\n",
       "      <td>1</td>\n",
       "      <td>3</td>\n",
       "      <td>33.33</td>\n",
       "    </tr>\n",
       "    <tr>\n",
       "      <th>3</th>\n",
       "      <td>60</td>\n",
       "      <td>3</td>\n",
       "      <td>3</td>\n",
       "      <td>100.00</td>\n",
       "    </tr>\n",
       "    <tr>\n",
       "      <th>4</th>\n",
       "      <td>84</td>\n",
       "      <td>6</td>\n",
       "      <td>7</td>\n",
       "      <td>85.71</td>\n",
       "    </tr>\n",
       "    <tr>\n",
       "      <th>5</th>\n",
       "      <td>120</td>\n",
       "      <td>4</td>\n",
       "      <td>4</td>\n",
       "      <td>100.00</td>\n",
       "    </tr>\n",
       "    <tr>\n",
       "      <th>6</th>\n",
       "      <td>180</td>\n",
       "      <td>47</td>\n",
       "      <td>66</td>\n",
       "      <td>71.21</td>\n",
       "    </tr>\n",
       "    <tr>\n",
       "      <th>7</th>\n",
       "      <td>240</td>\n",
       "      <td>7</td>\n",
       "      <td>8</td>\n",
       "      <td>87.50</td>\n",
       "    </tr>\n",
       "    <tr>\n",
       "      <th>8</th>\n",
       "      <td>300</td>\n",
       "      <td>14</td>\n",
       "      <td>20</td>\n",
       "      <td>70.00</td>\n",
       "    </tr>\n",
       "    <tr>\n",
       "      <th>9</th>\n",
       "      <td>350</td>\n",
       "      <td>1</td>\n",
       "      <td>1</td>\n",
       "      <td>100.00</td>\n",
       "    </tr>\n",
       "    <tr>\n",
       "      <th>10</th>\n",
       "      <td>360</td>\n",
       "      <td>627</td>\n",
       "      <td>843</td>\n",
       "      <td>74.38</td>\n",
       "    </tr>\n",
       "    <tr>\n",
       "      <th>11</th>\n",
       "      <td>480</td>\n",
       "      <td>10</td>\n",
       "      <td>23</td>\n",
       "      <td>43.48</td>\n",
       "    </tr>\n",
       "  </tbody>\n",
       "</table>\n",
       "</div>"
      ],
      "text/plain": [
       "    Loan_Amount_Term  count_prospects  No_of_prospects  response_rate\n",
       "0                  6                0                1           0.00\n",
       "1                 12                2                2         100.00\n",
       "2                 36                1                3          33.33\n",
       "3                 60                3                3         100.00\n",
       "4                 84                6                7          85.71\n",
       "5                120                4                4         100.00\n",
       "6                180               47               66          71.21\n",
       "7                240                7                8          87.50\n",
       "8                300               14               20          70.00\n",
       "9                350                1                1         100.00\n",
       "10               360              627              843          74.38\n",
       "11               480               10               23          43.48"
      ]
     },
     "execution_count": 11,
     "metadata": {},
     "output_type": "execute_result"
    }
   ],
   "source": [
    "count_prospects_term = loan.groupby('Loan_Amount_Term')['response'].sum().reset_index(name = 'count_prospects')\n",
    "No_of_prospect_term = loan.groupby('Loan_Amount_Term')['response'].count().reset_index(name = 'No_of_prospects')\n",
    "agg_term = count_prospects_term.merge(No_of_prospect_term, on = 'Loan_Amount_Term')\n",
    "agg_term['response_rate'] = 100*(agg_term['count_prospects']/agg_term['No_of_prospects']).round(4)\n",
    "agg_term"
   ]
  },
  {
   "cell_type": "code",
   "execution_count": 12,
   "metadata": {},
   "outputs": [],
   "source": [
    "loan.loc[loan['Loan_Amount_Term'] == 350, 'Loan_Amount_Term'] = 360"
   ]
  },
  {
   "cell_type": "markdown",
   "metadata": {},
   "source": [
    "### Visualisation of the Variables"
   ]
  },
  {
   "cell_type": "markdown",
   "metadata": {},
   "source": [
    "`ApplicantIncome:`"
   ]
  },
  {
   "cell_type": "code",
   "execution_count": 13,
   "metadata": {},
   "outputs": [
    {
     "data": {
      "image/png": "[encoded data removed]",
      "text/plain": [
       "<Figure size 432x288 with 1 Axes>"
      ]
     },
     "metadata": {
      "needs_background": "light"
     },
     "output_type": "display_data"
    }
   ],
   "source": [
    "sns.boxplot(x='ApplicantIncome', data=loan)\n",
    "plt.show()"
   ]
  },
  {
   "cell_type": "code",
   "execution_count": 14,
   "metadata": {},
   "outputs": [
    {
     "data": {
      "text/plain": [
       "0.95    12500.0\n",
       "0.96    14583.0\n",
       "0.97    15903.6\n",
       "0.98    18232.2\n",
       "0.99    25671.0\n",
       "Name: ApplicantIncome, dtype: float64"
      ]
     },
     "execution_count": 14,
     "metadata": {},
     "output_type": "execute_result"
    }
   ],
   "source": [
    "loan['ApplicantIncome'].quantile([0.95,0.96,0.97,0.98,0.99])"
   ]
  },
  {
   "cell_type": "code",
   "execution_count": 17,
   "metadata": {},
   "outputs": [
    {
     "data": {
      "image/png": "[encoded data removed]",
      "text/plain": [
       "<Figure size 432x288 with 1 Axes>"
      ]
     },
     "metadata": {
      "needs_background": "light"
     },
     "output_type": "display_data"
    }
   ],
   "source": [
    "sns.distplot(loan['ApplicantIncome'])\n",
    "plt.show()"
   ]
  },
  {
   "cell_type": "markdown",
   "metadata": {},
   "source": [
    "`Loamount:`"
   ]
  },
  {
   "cell_type": "code",
   "execution_count": 15,
   "metadata": {},
   "outputs": [
    {
     "data": {
      "text/plain": [
       "0.95    276.40\n",
       "0.96    299.64\n",
       "0.97    321.64\n",
       "0.98    379.76\n",
       "0.99    484.70\n",
       "Name: Loamount, dtype: float64"
      ]
     },
     "execution_count": 15,
     "metadata": {},
     "output_type": "execute_result"
    }
   ],
   "source": [
    "loan['Loamount'].quantile([0.95,0.96,0.97,0.98,0.99])"
   ]
  },
  {
   "cell_type": "code",
   "execution_count": 16,
   "metadata": {},
   "outputs": [
    {
     "data": {
      "image/png": "[encoded data removed]",
      "text/plain": [
       "<Figure size 432x288 with 1 Axes>"
      ]
     },
     "metadata": {
      "needs_background": "light"
     },
     "output_type": "display_data"
    }
   ],
   "source": [
    "sns.boxplot(x='Loamount', data=loan)\n",
    "plt.show()"
   ]
  },
  {
   "cell_type": "markdown",
   "metadata": {},
   "source": [
    "`CoapplicantIncome:`"
   ]
  },
  {
   "cell_type": "code",
   "execution_count": 18,
   "metadata": {},
   "outputs": [
    {
     "data": {
      "image/png": "[encoded data removed]",
      "text/plain": [
       "<Figure size 432x288 with 1 Axes>"
      ]
     },
     "metadata": {
      "needs_background": "light"
     },
     "output_type": "display_data"
    }
   ],
   "source": [
    "# CoapplicantIncome\n",
    "sns.distplot(loan['CoapplicantIncome'])\n",
    "plt.show()"
   ]
  },
  {
   "cell_type": "code",
   "execution_count": 19,
   "metadata": {},
   "outputs": [
    {
     "data": {
      "image/png": "[encoded data removed]",
      "text/plain": [
       "<Figure size 432x288 with 1 Axes>"
      ]
     },
     "metadata": {
      "needs_background": "light"
     },
     "output_type": "display_data"
    }
   ],
   "source": [
    "# CoapplicantIncome\n",
    "sns.distplot(loan['Loamount'])\n",
    "plt.show()"
   ]
  },
  {
   "cell_type": "code",
   "execution_count": 20,
   "metadata": {},
   "outputs": [
    {
     "data": {
      "image/png": "[encoded data removed]",
      "text/plain": [
       "<Figure size 432x288 with 1 Axes>"
      ]
     },
     "metadata": {
      "needs_background": "light"
     },
     "output_type": "display_data"
    }
   ],
   "source": [
    "sns.boxplot(x='CoapplicantIncome', data=loan)\n",
    "plt.show()"
   ]
  },
  {
   "cell_type": "code",
   "execution_count": 21,
   "metadata": {},
   "outputs": [
    {
     "data": {
      "text/plain": [
       "0.95     4700.0\n",
       "0.96     5063.8\n",
       "0.97     5625.0\n",
       "0.98     7183.6\n",
       "0.99    11034.4\n",
       "Name: CoapplicantIncome, dtype: float64"
      ]
     },
     "execution_count": 21,
     "metadata": {},
     "output_type": "execute_result"
    }
   ],
   "source": [
    "loan['CoapplicantIncome'].quantile([0.95,0.96,0.97,0.98,0.99])"
   ]
  },
  {
   "cell_type": "markdown",
   "metadata": {},
   "source": [
    "#### Feature Selection Using Chi-square test of Independence"
   ]
  },
  {
   "cell_type": "markdown",
   "metadata": {},
   "source": [
    "`Married :`"
   ]
  },
  {
   "cell_type": "code",
   "execution_count": 22,
   "metadata": {},
   "outputs": [
    {
     "name": "stdout",
     "output_type": "stream",
     "text": [
      "0.02412776740269921\n"
     ]
    }
   ],
   "source": [
    "groupsizes = loan.groupby(['Married', 'response']).size()\n",
    "ctsum = groupsizes.unstack('response')\n",
    "print(chi2_contingency(ctsum.fillna(0))[1])"
   ]
  },
  {
   "cell_type": "markdown",
   "metadata": {},
   "source": [
    "`Dependents :`"
   ]
  },
  {
   "cell_type": "code",
   "execution_count": 23,
   "metadata": {},
   "outputs": [
    {
     "name": "stdout",
     "output_type": "stream",
     "text": [
      "0.7766327984386389\n"
     ]
    }
   ],
   "source": [
    "groupsizes = loan.groupby(['Dependents', 'response']).size()\n",
    "ctsum = groupsizes.unstack('response')\n",
    "print(chi2_contingency(ctsum.fillna(0))[1])"
   ]
  },
  {
   "cell_type": "markdown",
   "metadata": {},
   "source": [
    "`Education :`"
   ]
  },
  {
   "cell_type": "code",
   "execution_count": 24,
   "metadata": {},
   "outputs": [
    {
     "name": "stdout",
     "output_type": "stream",
     "text": [
      "0.024123101747319832\n"
     ]
    }
   ],
   "source": [
    "groupsizes = loan.groupby(['Education', 'response']).size()\n",
    "ctsum = groupsizes.unstack('response')\n",
    "print(chi2_contingency(ctsum.fillna(0))[1])"
   ]
  },
  {
   "cell_type": "markdown",
   "metadata": {},
   "source": [
    "`Credit History :`"
   ]
  },
  {
   "cell_type": "code",
   "execution_count": 25,
   "metadata": {},
   "outputs": [
    {
     "name": "stdout",
     "output_type": "stream",
     "text": [
      "1.292611023838011e-93\n"
     ]
    }
   ],
   "source": [
    "groupsizes = loan.groupby(['Credit_History', 'response']).size()\n",
    "ctsum = groupsizes.unstack('response')\n",
    "print(chi2_contingency(ctsum.fillna(0))[1])"
   ]
  },
  {
   "cell_type": "markdown",
   "metadata": {},
   "source": [
    "`Property Area :`"
   ]
  },
  {
   "cell_type": "code",
   "execution_count": 26,
   "metadata": {},
   "outputs": [
    {
     "name": "stdout",
     "output_type": "stream",
     "text": [
      "0.011946627533693079\n"
     ]
    }
   ],
   "source": [
    "groupsizes = loan.groupby(['Property_Area', 'response']).size()\n",
    "ctsum = groupsizes.unstack('response')\n",
    "print(chi2_contingency(ctsum.fillna(0))[1])"
   ]
  },
  {
   "cell_type": "markdown",
   "metadata": {},
   "source": [
    "`Dropping the Variables which are not Correlated to Response rate :`"
   ]
  },
  {
   "cell_type": "code",
   "execution_count": 27,
   "metadata": {},
   "outputs": [
    {
     "name": "stdout",
     "output_type": "stream",
     "text": [
      "<class 'pandas.core.frame.DataFrame'>\n",
      "RangeIndex: 981 entries, 0 to 980\n",
      "Data columns (total 9 columns):\n",
      " #   Column             Non-Null Count  Dtype  \n",
      "---  ------             --------------  -----  \n",
      " 0   Married            981 non-null    object \n",
      " 1   Education          981 non-null    object \n",
      " 2   ApplicantIncome    981 non-null    int64  \n",
      " 3   CoapplicantIncome  981 non-null    float64\n",
      " 4   Loamount           954 non-null    float64\n",
      " 5   Loan_Amount_Term   981 non-null    int64  \n",
      " 6   Credit_History     981 non-null    int64  \n",
      " 7   Property_Area      981 non-null    object \n",
      " 8   response           981 non-null    int64  \n",
      "dtypes: float64(2), int64(4), object(3)\n",
      "memory usage: 69.1+ KB\n"
     ]
    }
   ],
   "source": [
    "drop_var = ['Self_Employed', 'Gender', 'Dependents']\n",
    "loan.drop(drop_var, axis = 1, inplace = True)\n",
    "loan.info()"
   ]
  },
  {
   "cell_type": "markdown",
   "metadata": {},
   "source": [
    "`Converting the Categorical variables to Numeric data using LabelEncoder :`"
   ]
  },
  {
   "cell_type": "code",
   "execution_count": 28,
   "metadata": {},
   "outputs": [],
   "source": [
    "loan['Loamount'].fillna(loan['Loamount'].median(), inplace = True)\n",
    "labelencoder = LabelEncoder()\n",
    "loan['Married'] = labelencoder.fit_transform(loan['Married'])\n",
    "loan['Education'] = labelencoder.fit_transform(loan['Education'])\n",
    "loan['Loan_Amount_Term'] = labelencoder.fit_transform(loan['Loan_Amount_Term'])\n",
    "loan['Credit_History'] = labelencoder.fit_transform(loan['Credit_History'])\n",
    "loan['Property_Area'] = labelencoder.fit_transform(loan['Property_Area'])"
   ]
  },
  {
   "cell_type": "markdown",
   "metadata": {},
   "source": [
    "`Test-Train Split :`"
   ]
  },
  {
   "cell_type": "code",
   "execution_count": 29,
   "metadata": {},
   "outputs": [],
   "source": [
    "# Putting feature variable to X\n",
    "X = loan.drop(['response'],axis=1)\n",
    "\n",
    "# Putting response variable to y\n",
    "y = loan['response']\n",
    "\n",
    "# Splitting the data into train and test\n",
    "X_train, X_test, y_train, y_test = train_test_split(X,y, train_size=0.7,test_size=0.3,random_state=100)"
   ]
  },
  {
   "cell_type": "markdown",
   "metadata": {},
   "source": [
    "`Scaling using StandardScaler :`"
   ]
  },
  {
   "cell_type": "code",
   "execution_count": 30,
   "metadata": {},
   "outputs": [],
   "source": [
    "scaler = StandardScaler()\n",
    "std_scale  = scaler.fit(X_train[[\"Loamount\", \"ApplicantIncome\", \"CoapplicantIncome\"]])\n",
    "X_train[[\"Loamount\", \"ApplicantIncome\", \"CoapplicantIncome\"]] = std_scale.transform(X_train[[\"Loamount\", \"ApplicantIncome\", \"CoapplicantIncome\"]])\n",
    "X_test[[\"Loamount\", \"ApplicantIncome\", \"CoapplicantIncome\"]] = std_scale.transform(X_test[[\"Loamount\", \"ApplicantIncome\", \"CoapplicantIncome\"]])"
   ]
  },
  {
   "cell_type": "markdown",
   "metadata": {},
   "source": [
    "#### Modelling and Hyperparamer tuning"
   ]
  },
  {
   "cell_type": "code",
   "execution_count": 31,
   "metadata": {},
   "outputs": [],
   "source": [
    "# Create the parameter grid based on the results of random search \n",
    "param_grid = {\n",
    "    'max_depth': [4,5,6],\n",
    "    'min_samples_leaf': [10, 25, 35, 50],\n",
    "    'min_samples_split': [25, 50, 75],\n",
    "    'n_estimators': [100,200, 300], \n",
    "    'max_features': [3, 4, 5], \n",
    "    'class_weight': ['balanced_subsample']\n",
    "}\n",
    "# Create a based model\n",
    "rf = RandomForestClassifier()\n",
    "# Instantiate the grid search model\n",
    "grid_search = GridSearchCV(estimator = rf, param_grid = param_grid, scoring ='accuracy', refit = True,\n",
    "                          return_train_score = True, cv = 3, n_jobs = -1,verbose = 1)"
   ]
  },
  {
   "cell_type": "code",
   "execution_count": 32,
   "metadata": {},
   "outputs": [
    {
     "name": "stdout",
     "output_type": "stream",
     "text": [
      "Fitting 3 folds for each of 324 candidates, totalling 972 fits\n"
     ]
    },
    {
     "data": {
      "text/plain": [
       "GridSearchCV(cv=3, estimator=RandomForestClassifier(), n_jobs=-1,\n",
       "             param_grid={'class_weight': ['balanced_subsample'],\n",
       "                         'max_depth': [4, 5, 6], 'max_features': [3, 4, 5],\n",
       "                         'min_samples_leaf': [10, 25, 35, 50],\n",
       "                         'min_samples_split': [25, 50, 75],\n",
       "                         'n_estimators': [100, 200, 300]},\n",
       "             return_train_score=True, scoring='accuracy', verbose=1)"
      ]
     },
     "execution_count": 32,
     "metadata": {},
     "output_type": "execute_result"
    }
   ],
   "source": [
    "X[[\"Loamount\", \"ApplicantIncome\", \"CoapplicantIncome\"]] = scaler.fit_transform(X[[\"Loamount\", \"ApplicantIncome\", \"CoapplicantIncome\"]])\n",
    "grid_search.fit(X, y)"
   ]
  },
  {
   "cell_type": "code",
   "execution_count": 33,
   "metadata": {},
   "outputs": [
    {
     "data": {
      "text/html": [
       "<div>\n",
       "<style scoped>\n",
       "    .dataframe tbody tr th:only-of-type {\n",
       "        vertical-align: middle;\n",
       "    }\n",
       "\n",
       "    .dataframe tbody tr th {\n",
       "        vertical-align: top;\n",
       "    }\n",
       "\n",
       "    .dataframe thead th {\n",
       "        text-align: right;\n",
       "    }\n",
       "</style>\n",
       "<table border=\"1\" class=\"dataframe\">\n",
       "  <thead>\n",
       "    <tr style=\"text-align: right;\">\n",
       "      <th></th>\n",
       "      <th>mean_fit_time</th>\n",
       "      <th>std_fit_time</th>\n",
       "      <th>mean_score_time</th>\n",
       "      <th>std_score_time</th>\n",
       "      <th>param_class_weight</th>\n",
       "      <th>param_max_depth</th>\n",
       "      <th>param_max_features</th>\n",
       "      <th>param_min_samples_leaf</th>\n",
       "      <th>param_min_samples_split</th>\n",
       "      <th>param_n_estimators</th>\n",
       "      <th>...</th>\n",
       "      <th>split1_test_score</th>\n",
       "      <th>split2_test_score</th>\n",
       "      <th>mean_test_score</th>\n",
       "      <th>std_test_score</th>\n",
       "      <th>rank_test_score</th>\n",
       "      <th>split0_train_score</th>\n",
       "      <th>split1_train_score</th>\n",
       "      <th>split2_train_score</th>\n",
       "      <th>mean_train_score</th>\n",
       "      <th>std_train_score</th>\n",
       "    </tr>\n",
       "  </thead>\n",
       "  <tbody>\n",
       "    <tr>\n",
       "      <th>0</th>\n",
       "      <td>0.434496</td>\n",
       "      <td>0.020004</td>\n",
       "      <td>0.031582</td>\n",
       "      <td>0.003670</td>\n",
       "      <td>balanced_subsample</td>\n",
       "      <td>4</td>\n",
       "      <td>3</td>\n",
       "      <td>10</td>\n",
       "      <td>25</td>\n",
       "      <td>100</td>\n",
       "      <td>...</td>\n",
       "      <td>0.853211</td>\n",
       "      <td>0.908257</td>\n",
       "      <td>0.860347</td>\n",
       "      <td>0.036555</td>\n",
       "      <td>9</td>\n",
       "      <td>0.908257</td>\n",
       "      <td>0.886850</td>\n",
       "      <td>0.840979</td>\n",
       "      <td>0.878695</td>\n",
       "      <td>0.028065</td>\n",
       "    </tr>\n",
       "    <tr>\n",
       "      <th>1</th>\n",
       "      <td>0.994007</td>\n",
       "      <td>0.021019</td>\n",
       "      <td>0.069817</td>\n",
       "      <td>0.002148</td>\n",
       "      <td>balanced_subsample</td>\n",
       "      <td>4</td>\n",
       "      <td>3</td>\n",
       "      <td>10</td>\n",
       "      <td>25</td>\n",
       "      <td>200</td>\n",
       "      <td>...</td>\n",
       "      <td>0.853211</td>\n",
       "      <td>0.905199</td>\n",
       "      <td>0.859327</td>\n",
       "      <td>0.035224</td>\n",
       "      <td>17</td>\n",
       "      <td>0.906728</td>\n",
       "      <td>0.888379</td>\n",
       "      <td>0.836391</td>\n",
       "      <td>0.877166</td>\n",
       "      <td>0.029789</td>\n",
       "    </tr>\n",
       "    <tr>\n",
       "      <th>2</th>\n",
       "      <td>1.513951</td>\n",
       "      <td>0.132078</td>\n",
       "      <td>0.079463</td>\n",
       "      <td>0.003284</td>\n",
       "      <td>balanced_subsample</td>\n",
       "      <td>4</td>\n",
       "      <td>3</td>\n",
       "      <td>10</td>\n",
       "      <td>25</td>\n",
       "      <td>300</td>\n",
       "      <td>...</td>\n",
       "      <td>0.850153</td>\n",
       "      <td>0.902141</td>\n",
       "      <td>0.857288</td>\n",
       "      <td>0.034084</td>\n",
       "      <td>30</td>\n",
       "      <td>0.909786</td>\n",
       "      <td>0.889908</td>\n",
       "      <td>0.840979</td>\n",
       "      <td>0.880224</td>\n",
       "      <td>0.028913</td>\n",
       "    </tr>\n",
       "    <tr>\n",
       "      <th>3</th>\n",
       "      <td>0.455449</td>\n",
       "      <td>0.091988</td>\n",
       "      <td>0.027260</td>\n",
       "      <td>0.002617</td>\n",
       "      <td>balanced_subsample</td>\n",
       "      <td>4</td>\n",
       "      <td>3</td>\n",
       "      <td>10</td>\n",
       "      <td>50</td>\n",
       "      <td>100</td>\n",
       "      <td>...</td>\n",
       "      <td>0.853211</td>\n",
       "      <td>0.905199</td>\n",
       "      <td>0.859327</td>\n",
       "      <td>0.035224</td>\n",
       "      <td>17</td>\n",
       "      <td>0.906728</td>\n",
       "      <td>0.888379</td>\n",
       "      <td>0.839450</td>\n",
       "      <td>0.878186</td>\n",
       "      <td>0.028396</td>\n",
       "    </tr>\n",
       "    <tr>\n",
       "      <th>4</th>\n",
       "      <td>0.759635</td>\n",
       "      <td>0.004098</td>\n",
       "      <td>0.050200</td>\n",
       "      <td>0.003291</td>\n",
       "      <td>balanced_subsample</td>\n",
       "      <td>4</td>\n",
       "      <td>3</td>\n",
       "      <td>10</td>\n",
       "      <td>50</td>\n",
       "      <td>200</td>\n",
       "      <td>...</td>\n",
       "      <td>0.856269</td>\n",
       "      <td>0.892966</td>\n",
       "      <td>0.856269</td>\n",
       "      <td>0.029963</td>\n",
       "      <td>40</td>\n",
       "      <td>0.906728</td>\n",
       "      <td>0.886850</td>\n",
       "      <td>0.839450</td>\n",
       "      <td>0.877676</td>\n",
       "      <td>0.028222</td>\n",
       "    </tr>\n",
       "    <tr>\n",
       "      <th>...</th>\n",
       "      <td>...</td>\n",
       "      <td>...</td>\n",
       "      <td>...</td>\n",
       "      <td>...</td>\n",
       "      <td>...</td>\n",
       "      <td>...</td>\n",
       "      <td>...</td>\n",
       "      <td>...</td>\n",
       "      <td>...</td>\n",
       "      <td>...</td>\n",
       "      <td>...</td>\n",
       "      <td>...</td>\n",
       "      <td>...</td>\n",
       "      <td>...</td>\n",
       "      <td>...</td>\n",
       "      <td>...</td>\n",
       "      <td>...</td>\n",
       "      <td>...</td>\n",
       "      <td>...</td>\n",
       "      <td>...</td>\n",
       "      <td>...</td>\n",
       "    </tr>\n",
       "    <tr>\n",
       "      <th>319</th>\n",
       "      <td>0.862692</td>\n",
       "      <td>0.005700</td>\n",
       "      <td>0.055518</td>\n",
       "      <td>0.000470</td>\n",
       "      <td>balanced_subsample</td>\n",
       "      <td>6</td>\n",
       "      <td>5</td>\n",
       "      <td>50</td>\n",
       "      <td>50</td>\n",
       "      <td>200</td>\n",
       "      <td>...</td>\n",
       "      <td>0.850153</td>\n",
       "      <td>0.779817</td>\n",
       "      <td>0.816514</td>\n",
       "      <td>0.028796</td>\n",
       "      <td>240</td>\n",
       "      <td>0.899083</td>\n",
       "      <td>0.885321</td>\n",
       "      <td>0.784404</td>\n",
       "      <td>0.856269</td>\n",
       "      <td>0.051126</td>\n",
       "    </tr>\n",
       "    <tr>\n",
       "      <th>320</th>\n",
       "      <td>1.258629</td>\n",
       "      <td>0.003734</td>\n",
       "      <td>0.083776</td>\n",
       "      <td>0.001411</td>\n",
       "      <td>balanced_subsample</td>\n",
       "      <td>6</td>\n",
       "      <td>5</td>\n",
       "      <td>50</td>\n",
       "      <td>50</td>\n",
       "      <td>300</td>\n",
       "      <td>...</td>\n",
       "      <td>0.847095</td>\n",
       "      <td>0.755352</td>\n",
       "      <td>0.807339</td>\n",
       "      <td>0.038440</td>\n",
       "      <td>260</td>\n",
       "      <td>0.900612</td>\n",
       "      <td>0.888379</td>\n",
       "      <td>0.776758</td>\n",
       "      <td>0.855250</td>\n",
       "      <td>0.055726</td>\n",
       "    </tr>\n",
       "    <tr>\n",
       "      <th>321</th>\n",
       "      <td>0.429517</td>\n",
       "      <td>0.012519</td>\n",
       "      <td>0.030253</td>\n",
       "      <td>0.000470</td>\n",
       "      <td>balanced_subsample</td>\n",
       "      <td>6</td>\n",
       "      <td>5</td>\n",
       "      <td>50</td>\n",
       "      <td>75</td>\n",
       "      <td>100</td>\n",
       "      <td>...</td>\n",
       "      <td>0.856269</td>\n",
       "      <td>0.740061</td>\n",
       "      <td>0.805301</td>\n",
       "      <td>0.048503</td>\n",
       "      <td>267</td>\n",
       "      <td>0.900612</td>\n",
       "      <td>0.886850</td>\n",
       "      <td>0.770642</td>\n",
       "      <td>0.852701</td>\n",
       "      <td>0.058296</td>\n",
       "    </tr>\n",
       "    <tr>\n",
       "      <th>322</th>\n",
       "      <td>0.833770</td>\n",
       "      <td>0.006464</td>\n",
       "      <td>0.060173</td>\n",
       "      <td>0.006830</td>\n",
       "      <td>balanced_subsample</td>\n",
       "      <td>6</td>\n",
       "      <td>5</td>\n",
       "      <td>50</td>\n",
       "      <td>75</td>\n",
       "      <td>200</td>\n",
       "      <td>...</td>\n",
       "      <td>0.840979</td>\n",
       "      <td>0.761468</td>\n",
       "      <td>0.807339</td>\n",
       "      <td>0.033593</td>\n",
       "      <td>258</td>\n",
       "      <td>0.903670</td>\n",
       "      <td>0.886850</td>\n",
       "      <td>0.782875</td>\n",
       "      <td>0.857798</td>\n",
       "      <td>0.053422</td>\n",
       "    </tr>\n",
       "    <tr>\n",
       "      <th>323</th>\n",
       "      <td>1.307171</td>\n",
       "      <td>0.040687</td>\n",
       "      <td>0.086435</td>\n",
       "      <td>0.008157</td>\n",
       "      <td>balanced_subsample</td>\n",
       "      <td>6</td>\n",
       "      <td>5</td>\n",
       "      <td>50</td>\n",
       "      <td>75</td>\n",
       "      <td>300</td>\n",
       "      <td>...</td>\n",
       "      <td>0.853211</td>\n",
       "      <td>0.767584</td>\n",
       "      <td>0.813456</td>\n",
       "      <td>0.035224</td>\n",
       "      <td>245</td>\n",
       "      <td>0.900612</td>\n",
       "      <td>0.888379</td>\n",
       "      <td>0.782875</td>\n",
       "      <td>0.857288</td>\n",
       "      <td>0.052855</td>\n",
       "    </tr>\n",
       "  </tbody>\n",
       "</table>\n",
       "<p>324 rows × 22 columns</p>\n",
       "</div>"
      ],
      "text/plain": [
       "     mean_fit_time  std_fit_time  mean_score_time  std_score_time  \\\n",
       "0         0.434496      0.020004         0.031582        0.003670   \n",
       "1         0.994007      0.021019         0.069817        0.002148   \n",
       "2         1.513951      0.132078         0.079463        0.003284   \n",
       "3         0.455449      0.091988         0.027260        0.002617   \n",
       "4         0.759635      0.004098         0.050200        0.003291   \n",
       "..             ...           ...              ...             ...   \n",
       "319       0.862692      0.005700         0.055518        0.000470   \n",
       "320       1.258629      0.003734         0.083776        0.001411   \n",
       "321       0.429517      0.012519         0.030253        0.000470   \n",
       "322       0.833770      0.006464         0.060173        0.006830   \n",
       "323       1.307171      0.040687         0.086435        0.008157   \n",
       "\n",
       "     param_class_weight param_max_depth param_max_features  \\\n",
       "0    balanced_subsample               4                  3   \n",
       "1    balanced_subsample               4                  3   \n",
       "2    balanced_subsample               4                  3   \n",
       "3    balanced_subsample               4                  3   \n",
       "4    balanced_subsample               4                  3   \n",
       "..                  ...             ...                ...   \n",
       "319  balanced_subsample               6                  5   \n",
       "320  balanced_subsample               6                  5   \n",
       "321  balanced_subsample               6                  5   \n",
       "322  balanced_subsample               6                  5   \n",
       "323  balanced_subsample               6                  5   \n",
       "\n",
       "    param_min_samples_leaf param_min_samples_split param_n_estimators  ...  \\\n",
       "0                       10                      25                100  ...   \n",
       "1                       10                      25                200  ...   \n",
       "2                       10                      25                300  ...   \n",
       "3                       10                      50                100  ...   \n",
       "4                       10                      50                200  ...   \n",
       "..                     ...                     ...                ...  ...   \n",
       "319                     50                      50                200  ...   \n",
       "320                     50                      50                300  ...   \n",
       "321                     50                      75                100  ...   \n",
       "322                     50                      75                200  ...   \n",
       "323                     50                      75                300  ...   \n",
       "\n",
       "    split1_test_score  split2_test_score  mean_test_score  std_test_score  \\\n",
       "0            0.853211           0.908257         0.860347        0.036555   \n",
       "1            0.853211           0.905199         0.859327        0.035224   \n",
       "2            0.850153           0.902141         0.857288        0.034084   \n",
       "3            0.853211           0.905199         0.859327        0.035224   \n",
       "4            0.856269           0.892966         0.856269        0.029963   \n",
       "..                ...                ...              ...             ...   \n",
       "319          0.850153           0.779817         0.816514        0.028796   \n",
       "320          0.847095           0.755352         0.807339        0.038440   \n",
       "321          0.856269           0.740061         0.805301        0.048503   \n",
       "322          0.840979           0.761468         0.807339        0.033593   \n",
       "323          0.853211           0.767584         0.813456        0.035224   \n",
       "\n",
       "     rank_test_score  split0_train_score  split1_train_score  \\\n",
       "0                  9            0.908257            0.886850   \n",
       "1                 17            0.906728            0.888379   \n",
       "2                 30            0.909786            0.889908   \n",
       "3                 17            0.906728            0.888379   \n",
       "4                 40            0.906728            0.886850   \n",
       "..               ...                 ...                 ...   \n",
       "319              240            0.899083            0.885321   \n",
       "320              260            0.900612            0.888379   \n",
       "321              267            0.900612            0.886850   \n",
       "322              258            0.903670            0.886850   \n",
       "323              245            0.900612            0.888379   \n",
       "\n",
       "     split2_train_score  mean_train_score  std_train_score  \n",
       "0              0.840979          0.878695         0.028065  \n",
       "1              0.836391          0.877166         0.029789  \n",
       "2              0.840979          0.880224         0.028913  \n",
       "3              0.839450          0.878186         0.028396  \n",
       "4              0.839450          0.877676         0.028222  \n",
       "..                  ...               ...              ...  \n",
       "319            0.784404          0.856269         0.051126  \n",
       "320            0.776758          0.855250         0.055726  \n",
       "321            0.770642          0.852701         0.058296  \n",
       "322            0.782875          0.857798         0.053422  \n",
       "323            0.782875          0.857288         0.052855  \n",
       "\n",
       "[324 rows x 22 columns]"
      ]
     },
     "execution_count": 33,
     "metadata": {},
     "output_type": "execute_result"
    }
   ],
   "source": [
    "pd.DataFrame(grid_search.cv_results_)"
   ]
  },
  {
   "cell_type": "code",
   "execution_count": 34,
   "metadata": {},
   "outputs": [
    {
     "data": {
      "text/plain": [
       "RandomForestClassifier(class_weight='balanced_subsample', max_depth=4,\n",
       "                       max_features=5, min_samples_leaf=10,\n",
       "                       min_samples_split=50)"
      ]
     },
     "execution_count": 34,
     "metadata": {},
     "output_type": "execute_result"
    }
   ],
   "source": [
    "grid_search.best_estimator_"
   ]
  },
  {
   "cell_type": "markdown",
   "metadata": {},
   "source": [
    "##### `Model Building :`"
   ]
  },
  {
   "cell_type": "code",
   "execution_count": 35,
   "metadata": {},
   "outputs": [],
   "source": [
    "rfc = RandomForestClassifier(bootstrap = True, max_depth=4, max_features=3, min_samples_leaf=10,\n",
    "                       min_samples_split=25, random_state = 251)\n",
    "\n",
    "# fit\n",
    "rfc.fit(X_train,y_train)\n",
    "# predict\n",
    "y_test_pred = rfc.predict(X_test)"
   ]
  },
  {
   "cell_type": "code",
   "execution_count": 36,
   "metadata": {},
   "outputs": [
    {
     "data": {
      "text/plain": [
       "array([[ 36,  35],\n",
       "       [  3, 221]], dtype=int64)"
      ]
     },
     "execution_count": 36,
     "metadata": {},
     "output_type": "execute_result"
    }
   ],
   "source": [
    "confusion_matrix(y_test, rfc.predict(X_test))"
   ]
  },
  {
   "cell_type": "code",
   "execution_count": 37,
   "metadata": {},
   "outputs": [
    {
     "data": {
      "text/plain": [
       "0.8711864406779661"
      ]
     },
     "execution_count": 37,
     "metadata": {},
     "output_type": "execute_result"
    }
   ],
   "source": [
    "accuracy_score(y_test, y_test_pred)"
   ]
  },
  {
   "cell_type": "markdown",
   "metadata": {},
   "source": [
    "`Finding the Optimal Cutoff :`"
   ]
  },
  {
   "cell_type": "code",
   "execution_count": 38,
   "metadata": {},
   "outputs": [
    {
     "data": {
      "image/png": "[encoded data removed]",
      "text/plain": [
       "<Figure size 432x288 with 1 Axes>"
      ]
     },
     "metadata": {
      "needs_background": "light"
     },
     "output_type": "display_data"
    }
   ],
   "source": [
    "p, r, thresholds = precision_recall_curve(y_train, rfc.predict_proba(X_train)[:,1])\n",
    "plt.plot(thresholds, p[:-1], \"g-\")\n",
    "plt.plot(thresholds, r[:-1], \"r-\")\n",
    "plt.show()"
   ]
  },
  {
   "cell_type": "markdown",
   "metadata": {},
   "source": [
    "`Predicted Probability of test dataset :`"
   ]
  },
  {
   "cell_type": "code",
   "execution_count": 39,
   "metadata": {},
   "outputs": [
    {
     "data": {
      "text/html": [
       "<div>\n",
       "<style scoped>\n",
       "    .dataframe tbody tr th:only-of-type {\n",
       "        vertical-align: middle;\n",
       "    }\n",
       "\n",
       "    .dataframe tbody tr th {\n",
       "        vertical-align: top;\n",
       "    }\n",
       "\n",
       "    .dataframe thead th {\n",
       "        text-align: right;\n",
       "    }\n",
       "</style>\n",
       "<table border=\"1\" class=\"dataframe\">\n",
       "  <thead>\n",
       "    <tr style=\"text-align: right;\">\n",
       "      <th></th>\n",
       "      <th>pred</th>\n",
       "      <th>pred_prob</th>\n",
       "    </tr>\n",
       "  </thead>\n",
       "  <tbody>\n",
       "    <tr>\n",
       "      <th>0</th>\n",
       "      <td>1</td>\n",
       "      <td>0.832805</td>\n",
       "    </tr>\n",
       "    <tr>\n",
       "      <th>1</th>\n",
       "      <td>1</td>\n",
       "      <td>0.800183</td>\n",
       "    </tr>\n",
       "    <tr>\n",
       "      <th>2</th>\n",
       "      <td>1</td>\n",
       "      <td>0.849932</td>\n",
       "    </tr>\n",
       "    <tr>\n",
       "      <th>3</th>\n",
       "      <td>0</td>\n",
       "      <td>0.150310</td>\n",
       "    </tr>\n",
       "    <tr>\n",
       "      <th>4</th>\n",
       "      <td>1</td>\n",
       "      <td>0.838745</td>\n",
       "    </tr>\n",
       "  </tbody>\n",
       "</table>\n",
       "</div>"
      ],
      "text/plain": [
       "   pred  pred_prob\n",
       "0     1   0.832805\n",
       "1     1   0.800183\n",
       "2     1   0.849932\n",
       "3     0   0.150310\n",
       "4     1   0.838745"
      ]
     },
     "execution_count": 39,
     "metadata": {},
     "output_type": "execute_result"
    }
   ],
   "source": [
    "y_test_prob = rfc.predict_proba(X_test)[:,1]\n",
    "y_test_pred_final = pd.DataFrame()\n",
    "\n",
    "y_test_pred_final['pred'] = pd.Series(rfc.predict(X_test))\n",
    "y_test_pred_final['pred_prob'] = y_test_prob\n",
    "\n",
    "y_test_pred_final.head()"
   ]
  },
  {
   "cell_type": "code",
   "execution_count": 40,
   "metadata": {},
   "outputs": [],
   "source": [
    "y_test_pred_final.loc[:,'actual'] = list(y_test)"
   ]
  },
  {
   "cell_type": "markdown",
   "metadata": {},
   "source": [
    "`Classification Using the Precision-Recall Curve Cutoff Probability :`"
   ]
  },
  {
   "cell_type": "code",
   "execution_count": 41,
   "metadata": {},
   "outputs": [
    {
     "data": {
      "text/html": [
       "<div>\n",
       "<style scoped>\n",
       "    .dataframe tbody tr th:only-of-type {\n",
       "        vertical-align: middle;\n",
       "    }\n",
       "\n",
       "    .dataframe tbody tr th {\n",
       "        vertical-align: top;\n",
       "    }\n",
       "\n",
       "    .dataframe thead th {\n",
       "        text-align: right;\n",
       "    }\n",
       "</style>\n",
       "<table border=\"1\" class=\"dataframe\">\n",
       "  <thead>\n",
       "    <tr style=\"text-align: right;\">\n",
       "      <th></th>\n",
       "      <th>pred</th>\n",
       "      <th>pred_prob</th>\n",
       "      <th>actual</th>\n",
       "      <th>final_predicted</th>\n",
       "    </tr>\n",
       "  </thead>\n",
       "  <tbody>\n",
       "    <tr>\n",
       "      <th>0</th>\n",
       "      <td>1</td>\n",
       "      <td>0.832805</td>\n",
       "      <td>1</td>\n",
       "      <td>1</td>\n",
       "    </tr>\n",
       "    <tr>\n",
       "      <th>1</th>\n",
       "      <td>1</td>\n",
       "      <td>0.800183</td>\n",
       "      <td>1</td>\n",
       "      <td>1</td>\n",
       "    </tr>\n",
       "    <tr>\n",
       "      <th>2</th>\n",
       "      <td>1</td>\n",
       "      <td>0.849932</td>\n",
       "      <td>1</td>\n",
       "      <td>1</td>\n",
       "    </tr>\n",
       "    <tr>\n",
       "      <th>3</th>\n",
       "      <td>0</td>\n",
       "      <td>0.150310</td>\n",
       "      <td>0</td>\n",
       "      <td>0</td>\n",
       "    </tr>\n",
       "    <tr>\n",
       "      <th>4</th>\n",
       "      <td>1</td>\n",
       "      <td>0.838745</td>\n",
       "      <td>1</td>\n",
       "      <td>1</td>\n",
       "    </tr>\n",
       "  </tbody>\n",
       "</table>\n",
       "</div>"
      ],
      "text/plain": [
       "   pred  pred_prob  actual  final_predicted\n",
       "0     1   0.832805       1                1\n",
       "1     1   0.800183       1                1\n",
       "2     1   0.849932       1                1\n",
       "3     0   0.150310       0                0\n",
       "4     1   0.838745       1                1"
      ]
     },
     "execution_count": 41,
     "metadata": {},
     "output_type": "execute_result"
    }
   ],
   "source": [
    "y_test_pred_final['final_predicted'] = y_test_pred_final.pred_prob.map( lambda x: 1 if x > 0.78 else 0)\n",
    "\n",
    "y_test_pred_final.head()"
   ]
  },
  {
   "cell_type": "markdown",
   "metadata": {},
   "source": [
    "`Confusion Matrix and Accuracy :`"
   ]
  },
  {
   "cell_type": "code",
   "execution_count": 42,
   "metadata": {},
   "outputs": [
    {
     "name": "stdout",
     "output_type": "stream",
     "text": [
      "[[ 50  21]\n",
      " [ 28 196]]\n",
      "0.8338983050847457\n"
     ]
    }
   ],
   "source": [
    "print(confusion_matrix(y_test, y_test_pred_final['final_predicted']))\n",
    "print(accuracy_score(y_test, y_test_pred_final['final_predicted']))"
   ]
  },
  {
   "cell_type": "markdown",
   "metadata": {},
   "source": [
    "#### Acquisition Analytics Using Decile wise Lift "
   ]
  },
  {
   "cell_type": "code",
   "execution_count": 43,
   "metadata": {},
   "outputs": [
    {
     "data": {
      "text/html": [
       "<div>\n",
       "<style scoped>\n",
       "    .dataframe tbody tr th:only-of-type {\n",
       "        vertical-align: middle;\n",
       "    }\n",
       "\n",
       "    .dataframe tbody tr th {\n",
       "        vertical-align: top;\n",
       "    }\n",
       "\n",
       "    .dataframe thead th {\n",
       "        text-align: right;\n",
       "    }\n",
       "</style>\n",
       "<table border=\"1\" class=\"dataframe\">\n",
       "  <thead>\n",
       "    <tr style=\"text-align: right;\">\n",
       "      <th></th>\n",
       "      <th>decile</th>\n",
       "      <th>total</th>\n",
       "      <th>actual</th>\n",
       "      <th>cumresp</th>\n",
       "      <th>gain</th>\n",
       "      <th>cumlift</th>\n",
       "    </tr>\n",
       "  </thead>\n",
       "  <tbody>\n",
       "    <tr>\n",
       "      <th>9</th>\n",
       "      <td>1</td>\n",
       "      <td>30</td>\n",
       "      <td>28</td>\n",
       "      <td>28</td>\n",
       "      <td>12.500000</td>\n",
       "      <td>1.250000</td>\n",
       "    </tr>\n",
       "    <tr>\n",
       "      <th>8</th>\n",
       "      <td>2</td>\n",
       "      <td>29</td>\n",
       "      <td>24</td>\n",
       "      <td>52</td>\n",
       "      <td>23.214286</td>\n",
       "      <td>1.160714</td>\n",
       "    </tr>\n",
       "    <tr>\n",
       "      <th>7</th>\n",
       "      <td>3</td>\n",
       "      <td>30</td>\n",
       "      <td>30</td>\n",
       "      <td>82</td>\n",
       "      <td>36.607143</td>\n",
       "      <td>1.220238</td>\n",
       "    </tr>\n",
       "    <tr>\n",
       "      <th>6</th>\n",
       "      <td>4</td>\n",
       "      <td>29</td>\n",
       "      <td>28</td>\n",
       "      <td>110</td>\n",
       "      <td>49.107143</td>\n",
       "      <td>1.227679</td>\n",
       "    </tr>\n",
       "    <tr>\n",
       "      <th>5</th>\n",
       "      <td>5</td>\n",
       "      <td>29</td>\n",
       "      <td>26</td>\n",
       "      <td>136</td>\n",
       "      <td>60.714286</td>\n",
       "      <td>1.214286</td>\n",
       "    </tr>\n",
       "    <tr>\n",
       "      <th>4</th>\n",
       "      <td>6</td>\n",
       "      <td>30</td>\n",
       "      <td>27</td>\n",
       "      <td>163</td>\n",
       "      <td>72.767857</td>\n",
       "      <td>1.212798</td>\n",
       "    </tr>\n",
       "    <tr>\n",
       "      <th>3</th>\n",
       "      <td>7</td>\n",
       "      <td>29</td>\n",
       "      <td>25</td>\n",
       "      <td>188</td>\n",
       "      <td>83.928571</td>\n",
       "      <td>1.198980</td>\n",
       "    </tr>\n",
       "    <tr>\n",
       "      <th>2</th>\n",
       "      <td>8</td>\n",
       "      <td>30</td>\n",
       "      <td>17</td>\n",
       "      <td>205</td>\n",
       "      <td>91.517857</td>\n",
       "      <td>1.143973</td>\n",
       "    </tr>\n",
       "    <tr>\n",
       "      <th>1</th>\n",
       "      <td>9</td>\n",
       "      <td>29</td>\n",
       "      <td>17</td>\n",
       "      <td>222</td>\n",
       "      <td>99.107143</td>\n",
       "      <td>1.101190</td>\n",
       "    </tr>\n",
       "    <tr>\n",
       "      <th>0</th>\n",
       "      <td>10</td>\n",
       "      <td>30</td>\n",
       "      <td>2</td>\n",
       "      <td>224</td>\n",
       "      <td>100.000000</td>\n",
       "      <td>1.000000</td>\n",
       "    </tr>\n",
       "  </tbody>\n",
       "</table>\n",
       "</div>"
      ],
      "text/plain": [
       "  decile  total  actual  cumresp        gain   cumlift\n",
       "9      1     30      28       28   12.500000  1.250000\n",
       "8      2     29      24       52   23.214286  1.160714\n",
       "7      3     30      30       82   36.607143  1.220238\n",
       "6      4     29      28      110   49.107143  1.227679\n",
       "5      5     29      26      136   60.714286  1.214286\n",
       "4      6     30      27      163   72.767857  1.212798\n",
       "3      7     29      25      188   83.928571  1.198980\n",
       "2      8     30      17      205   91.517857  1.143973\n",
       "1      9     29      17      222   99.107143  1.101190\n",
       "0     10     30       2      224  100.000000  1.000000"
      ]
     },
     "execution_count": 43,
     "metadata": {},
     "output_type": "execute_result"
    }
   ],
   "source": [
    "y_test_pred_final = y_test_pred_final[['actual','pred_prob' ,'final_predicted']]\n",
    "\n",
    "y_test_pred_final['decile'] = pd.qcut(y_test_pred_final['pred_prob'], 10, labels=np.arange(10, 0, -1))\n",
    "\n",
    "lift_df = y_test_pred_final.groupby('decile')['pred_prob'].count().reset_index()\n",
    "\n",
    "lift_df.rename({'pred_prob':'total'}, axis=1, inplace=True)\n",
    "lift_df_pred = y_test_pred_final[y_test_pred_final['actual']==1].groupby('decile')['actual'].count().reset_index()\n",
    "lift_df_final = lift_df.merge(lift_df_pred,on = 'decile')\n",
    "lift_df_final = lift_df_final.sort_values(['decile'], ascending=False)\n",
    "lift_df_final['cumresp'] = lift_df_final['actual'].cumsum()\n",
    "lift_df_final['gain'] = 100*(lift_df_final['cumresp']/sum(lift_df_final['actual']))\n",
    "lift_df_final['cumlift'] = lift_df_final['gain']/(lift_df_final['decile'].astype('int')*(100/10))\n",
    "lift_df_final"
   ]
  },
  {
   "cell_type": "code",
   "execution_count": 50,
   "metadata": {},
   "outputs": [
    {
     "data": {
      "image/png": "[encoded data removed]",
      "text/plain": [
       "<Figure size 432x288 with 1 Axes>"
      ]
     },
     "metadata": {
      "needs_background": "light"
     },
     "output_type": "display_data"
    }
   ],
   "source": [
    "lift_df_final.plot.line(x='decile', y=['gain']);"
   ]
  },
  {
   "cell_type": "markdown",
   "metadata": {},
   "source": [
    "### Conclusion"
   ]
  },
  {
   "cell_type": "markdown",
   "metadata": {},
   "source": [
    "1. We Obtained an Accuracy of 83.38% over the test dataset.\n",
    "2. 90 % of conversion can captured using 80 percentage of the client base"
   ]
  }
 ],
 "metadata": {
  "kernelspec": {
   "display_name": "Python 3",
   "language": "python",
   "name": "python3"
  },
  "language_info": {
   "codemirror_mode": {
    "name": "ipython",
    "version": 3
   },
   "file_extension": ".py",
   "mimetype": "text/x-python",
   "name": "python",
   "nbconvert_exporter": "python",
   "pygments_lexer": "ipython3",
   "version": "3.8.3"
  }
 },
 "nbformat": 4,
 "nbformat_minor": 4
}
